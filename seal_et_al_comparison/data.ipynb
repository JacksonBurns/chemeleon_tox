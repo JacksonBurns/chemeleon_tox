{
 "cells": [
  {
   "cell_type": "code",
   "execution_count": 1,
   "id": "0021706e",
   "metadata": {},
   "outputs": [],
   "source": [
    "import pandas as pd\n",
    "\n",
    "from rdkit.Chem import CanonSmiles, MolFromSmiles"
   ]
  },
  {
   "cell_type": "code",
   "execution_count": 2,
   "id": "54c21db0",
   "metadata": {},
   "outputs": [],
   "source": [
    "def load_df(url: str) -> pd.DataFrame:\n",
    "    df = pd.read_csv(url, usecols=[\"smiles_r\",\"TOXICITY\"])\n",
    "    df = df.rename(columns=dict(smiles_r=\"smiles\", TOXICITY=\"is_toxic\"))\n",
    "    # there is an error in the smiles for phosphomyicin - fix that here to preserve the whole test set\n",
    "    df.loc[df[\"smiles\"] == \"CC1OC1[P](=O)(=O)O\", \"smiles\"] = \"CC1OC1[P](=O)(O)O\"\n",
    "    # other dataframes also have valency problems - just drop them\n",
    "    df = df[df[\"smiles\"].map(lambda smi: MolFromSmiles(smi) is not None)]\n",
    "    df[\"smiles\"] = df[\"smiles\"].map(CanonSmiles)\n",
    "    return df"
   ]
  },
  {
   "cell_type": "code",
   "execution_count": 3,
   "id": "0c1fe017",
   "metadata": {},
   "outputs": [],
   "source": [
    "testing_df = load_df(r\"https://raw.githubusercontent.com/srijitseal/DILI/refs/heads/main/test_data_heldouttest_DILIst_223.csv\")"
   ]
  },
  {
   "cell_type": "code",
   "execution_count": 4,
   "id": "d8e67390",
   "metadata": {},
   "outputs": [],
   "source": [
    "testing_smiles = set(testing_df[\"smiles\"])"
   ]
  },
  {
   "cell_type": "code",
   "execution_count": 5,
   "id": "5e7e290b",
   "metadata": {},
   "outputs": [
    {
     "name": "stderr",
     "output_type": "stream",
     "text": [
      "[13:52:33] Explicit valence for atom # 1 P, 6, is greater than permitted\n",
      "[13:52:33] Explicit valence for atom # 15 P, 6, is greater than permitted\n",
      "[13:52:33] Explicit valence for atom # 15 P, 6, is greater than permitted\n",
      "[13:52:33] Explicit valence for atom # 14 P, 6, is greater than permitted\n",
      "[13:52:33] Explicit valence for atom # 6 P, 6, is greater than permitted\n",
      "[13:52:33] Explicit valence for atom # 1 P, 6, is greater than permitted\n",
      "[13:52:33] Explicit valence for atom # 21 P, 6, is greater than permitted\n",
      "[13:52:33] Explicit valence for atom # 3 P, 6, is greater than permitted\n",
      "[13:52:33] Explicit valence for atom # 5 P, 6, is greater than permitted\n",
      "[13:52:33] Explicit valence for atom # 3 P, 6, is greater than permitted\n",
      "[13:52:33] Explicit valence for atom # 7 P, 6, is greater than permitted\n",
      "[13:52:33] Explicit valence for atom # 11 P, 6, is greater than permitted\n",
      "[13:52:33] Explicit valence for atom # 11 P, 6, is greater than permitted\n",
      "[13:52:33] Explicit valence for atom # 8 P, 6, is greater than permitted\n"
     ]
    }
   ],
   "source": [
    "finetuning_df = load_df(r\"https://raw.githubusercontent.com/srijitseal/DILI/refs/heads/main/data/DILI_Goldstandard_1111.csv\")"
   ]
  },
  {
   "cell_type": "code",
   "execution_count": 6,
   "id": "2332a68f",
   "metadata": {},
   "outputs": [
    {
     "name": "stdout",
     "output_type": "stream",
     "text": [
      "len(finetuning_df)=1097 before dropping testing overlap\n",
      "len(finetuning_df)=874 after dropping testing overlap\n"
     ]
    }
   ],
   "source": [
    "print(f\"{len(finetuning_df)=} before dropping testing overlap\")\n",
    "finetuning_df = finetuning_df[~finetuning_df[\"smiles\"].isin(testing_smiles)]\n",
    "print(f\"{len(finetuning_df)=} after dropping testing overlap\")"
   ]
  },
  {
   "cell_type": "code",
   "execution_count": 7,
   "id": "a5282a83",
   "metadata": {},
   "outputs": [],
   "source": [
    "finetuning_smiles = set(finetuning_df[\"smiles\"])"
   ]
  },
  {
   "cell_type": "code",
   "execution_count": 8,
   "id": "a28601bf",
   "metadata": {},
   "outputs": [
    {
     "name": "stderr",
     "output_type": "stream",
     "text": [
      "[13:52:36] Unusual charge on atom 16 number of radical electrons set to zero\n",
      "[13:52:37] WARNING: not removing hydrogen atom without neighbors\n",
      "[13:52:37] WARNING: not removing hydrogen atom without neighbors\n",
      "[13:52:37] WARNING: not removing hydrogen atom without neighbors\n",
      "[13:52:37] WARNING: not removing hydrogen atom without neighbors\n",
      "[13:52:37] WARNING: not removing hydrogen atom without neighbors\n",
      "[13:52:37] WARNING: not removing hydrogen atom without neighbors\n",
      "[13:52:39] Unusual charge on atom 16 number of radical electrons set to zero\n",
      "[13:52:40] WARNING: not removing hydrogen atom without neighbors\n",
      "[13:52:40] WARNING: not removing hydrogen atom without neighbors\n",
      "[13:52:40] WARNING: not removing hydrogen atom without neighbors\n",
      "[13:52:40] WARNING: not removing hydrogen atom without neighbors\n",
      "[13:52:40] WARNING: not removing hydrogen atom without neighbors\n",
      "[13:52:40] WARNING: not removing hydrogen atom without neighbors\n"
     ]
    }
   ],
   "source": [
    "pretraining_df = load_df(r\"https://raw.githubusercontent.com/srijitseal/DILI/refs/heads/main/data/Alloriginaldata_19911.csv\")"
   ]
  },
  {
   "cell_type": "code",
   "execution_count": 9,
   "id": "fa8cf642",
   "metadata": {},
   "outputs": [
    {
     "name": "stdout",
     "output_type": "stream",
     "text": [
      "len(pretraining_df)=19911 before dropping testing overlap\n",
      "len(pretraining_df)=18948 after dropping testing and finetuning overlap\n"
     ]
    }
   ],
   "source": [
    "print(f\"{len(pretraining_df)=} before dropping testing overlap\")\n",
    "pretraining_df = pretraining_df[~pretraining_df[\"smiles\"].isin(testing_smiles)]\n",
    "pretraining_df = pretraining_df[~pretraining_df[\"smiles\"].isin(finetuning_smiles)]\n",
    "print(f\"{len(pretraining_df)=} after dropping testing and finetuning overlap\")"
   ]
  },
  {
   "cell_type": "code",
   "execution_count": 10,
   "id": "ec4d2963",
   "metadata": {},
   "outputs": [],
   "source": [
    "testing_df.to_csv(\"testing.csv\", index=False)\n",
    "pretraining_df.to_csv(\"pretraining.csv\", index=False)\n",
    "finetuning_df.to_csv(\"finetuning.csv\", index=False)"
   ]
  }
 ],
 "metadata": {
  "kernelspec": {
   "display_name": "chemprop_v2_live",
   "language": "python",
   "name": "python3"
  },
  "language_info": {
   "codemirror_mode": {
    "name": "ipython",
    "version": 3
   },
   "file_extension": ".py",
   "mimetype": "text/x-python",
   "name": "python",
   "nbconvert_exporter": "python",
   "pygments_lexer": "ipython3",
   "version": "3.11.11"
  }
 },
 "nbformat": 4,
 "nbformat_minor": 5
}
